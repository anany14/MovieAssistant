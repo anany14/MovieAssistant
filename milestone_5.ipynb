{
  "cells": [
    {
      "cell_type": "markdown",
      "metadata": {
        "id": "i_xLFYD8a_h3"
      },
      "source": [
        "# Movie Recommendation - Milestone 5\n"
      ]
    },
    {
      "cell_type": "markdown",
      "metadata": {
        "id": "nI7LsJUQXXCn"
      },
      "source": [
        "<details>\n",
        "  <summary>Click in any of these links to compare your solution with ours up to this point</summary>\n",
        "  <p>\n",
        "    <a href=\"https://colab.research.google.com/github/AI-Core/movie-recommendation-solutions/blob/main/solution_m1.ipynb\" target=\"_parent\">Solution for milestone 1</a>\n",
        "  </p>\n",
        "  <p>\n",
        "    <a href=\"https://colab.research.google.com/github/AI-Core/movie-recommendation-solutions/blob/main/solution_m2.ipynb\" target=\"_parent\">Solution for milestone 2</a>\n",
        "  </p>\n",
        "    <p>\n",
        "        <a href=\"https://colab.research.google.com/github/AI-Core/movie-recommendation-solutions/blob/main/solution_m3.ipynb\" target=\"_parent\">Solution for milestone 3</a>\n",
        "    </p>\n",
        "    <p>\n",
        "        <a href=\"https://colab.research.google.com/github/AI-Core/movie-recommendation-solutions/blob/main/solution_m4.ipynb\" target=\"_parent\">Solution for milestone 4</a>\n",
        "    </p>\n",
        "</details>"
      ]
    },
    {
      "cell_type": "code",
      "execution_count": 26,
      "metadata": {
        "id": "AH2OE06pXXCn",
        "outputId": "471d5019-9f1f-4606-cba6-c9c1dae0f574",
        "colab": {
          "base_uri": "https://localhost:8080/"
        }
      },
      "outputs": [
        {
          "output_type": "stream",
          "name": "stdout",
          "text": [
            "Looking in indexes: https://pypi.org/simple, https://us-python.pkg.dev/colab-wheels/public/simple/\n",
            "Requirement already satisfied: movie-rec-marking-aicore in /usr/local/lib/python3.9/dist-packages (0.1.2)\n",
            "Requirement already satisfied: timeout-decorator in /usr/local/lib/python3.9/dist-packages (from movie-rec-marking-aicore) (0.5.0)\n",
            "Requirement already satisfied: urllib3 in /usr/local/lib/python3.9/dist-packages (from movie-rec-marking-aicore) (1.26.15)\n",
            "--2023-04-10 08:52:22--  https://aicore-files.s3.amazonaws.com/Movie-Recommendation/movies.json\n",
            "Resolving aicore-files.s3.amazonaws.com (aicore-files.s3.amazonaws.com)... 52.217.108.156, 54.231.139.137, 3.5.27.135, ...\n",
            "Connecting to aicore-files.s3.amazonaws.com (aicore-files.s3.amazonaws.com)|52.217.108.156|:443... connected.\n",
            "HTTP request sent, awaiting response... 200 OK\n",
            "Length: 158540 (155K) [application/json]\n",
            "Saving to: ‘movies.json.3’\n",
            "\n",
            "movies.json.3       100%[===================>] 154.82K  --.-KB/s    in 0.06s   \n",
            "\n",
            "2023-04-10 08:52:22 (2.60 MB/s) - ‘movies.json.3’ saved [158540/158540]\n",
            "\n"
          ]
        }
      ],
      "source": [
        "#@title # Run the following cell to add the `movies` variable to your workspace. { display-mode: \"form\" }\n",
        "#@markdown Don’t worry about what’s in this collapsed cell, you’re not expected to understand the code inside\n",
        "\n",
        "!pip install movie-rec-marking-aicore --upgrade\n",
        "!wget https://aicore-files.s3.amazonaws.com/Movie-Recommendation/movies.json\n",
        "from movie_rec_marking import test_milestone_5\n",
        "import json\n",
        "with open('movies.json', 'r') as f:\n",
        "    movies = json.load(f)"
      ]
    },
    {
      "cell_type": "code",
      "execution_count": 27,
      "metadata": {
        "id": "xRTjULMiXXCo"
      },
      "outputs": [],
      "source": [
        "# Run this cell to define the `get_unique_genres` and `get_user_genre_choice` functions.\n",
        "def get_unique_genres():\n",
        "    genres = []\n",
        "    for movie in movies:\n",
        "        genres.append(movie[\"genre\"])\n",
        "    genres = set(genres)\n",
        "    return genres\n",
        "\n",
        "def get_user_genre_choice():\n",
        "    print(\"Select a genre from the following set:\")\n",
        "    print(get_unique_genres())\n",
        "    genre_choice = input(\"Type a genre then hit enter...\\n\")\n",
        "    return genre_choice"
      ]
    },
    {
      "cell_type": "markdown",
      "metadata": {
        "id": "MYQw48Lqa3Q4"
      },
      "source": [
        "# Task 1 \n",
        "### Validate the User's Genre Choice"
      ]
    },
    {
      "cell_type": "code",
      "execution_count": 28,
      "metadata": {
        "id": "1UpT9BAym0iW"
      },
      "outputs": [],
      "source": [
        "## Write your code here\n",
        "def get_unique_genres():\n",
        "    genres = []\n",
        "    for movie in movies:\n",
        "        genres.append(movie[\"genre\"])\n",
        "    genres = set(genres)\n",
        "    return genres\n",
        "    \n",
        "def get_user_genre_choice():\n",
        "    total_genres = get_unique_genres()\n",
        "    print(\"Select a genre from the following set:\")\n",
        "    print(get_unique_genres())\n",
        "    while True:\n",
        "      genre_choice = input(\"Type a genre then hit enter...\\n\")\n",
        "      try:\n",
        "        assert genre_choice in total_genres\n",
        "      except ValueError:\n",
        "        print('This is not a valid genre')\n",
        "      else:\n",
        "        return genre_choice"
      ]
    },
    {
      "cell_type": "code",
      "execution_count": 29,
      "metadata": {
        "id": "YRVTFPy4XXCp",
        "outputId": "b1d8d842-3bc9-4df2-8d3f-4c505492ba68",
        "colab": {
          "base_uri": "https://localhost:8080/"
        }
      },
      "outputs": [
        {
          "output_type": "stream",
          "name": "stdout",
          "text": [
            "Great! The \"get_user_genre_choice\" function raises an error when you use a genre that is not in the dataset\n",
            "You can continue to the next task\n"
          ]
        }
      ],
      "source": [
        "#@title Run this cell to check your solution { display-mode: \"form\", run: \"auto\" }\n",
        "\n",
        "assert 'get_user_genre_choice' in globals(), \"You need to define a function called get_user_genre_choice\"\n",
        "task_1 = test_milestone_5.check_first_get_user_genre_choice(get_user_genre_choice)"
      ]
    },
    {
      "cell_type": "markdown",
      "metadata": {
        "id": "jiN59w-qXXCp"
      },
      "source": [
        "# Task 2 \n",
        "\n",
        "### Raise a Specific Type of Error"
      ]
    },
    {
      "cell_type": "code",
      "execution_count": 54,
      "metadata": {
        "id": "RI25ap-AXXCp",
        "outputId": "716f5dad-5ee7-443b-ea3a-cb31abfc4c91",
        "colab": {
          "base_uri": "https://localhost:8080/",
          "height": 391
        }
      },
      "outputs": [
        {
          "name": "stdout",
          "output_type": "stream",
          "text": [
            "Select a genre from the following set:\n",
            "{'Comedy', 'Biography', 'Action', 'Horror', 'Film-Noir', 'Drama', 'Adventure', 'Western', 'Crime', 'Mystery', 'Animation'}\n",
            "Type a genre then hit enter...\n",
            "bruh\n"
          ]
        },
        {
          "output_type": "error",
          "ename": "ValueError",
          "evalue": "ignored",
          "traceback": [
            "\u001b[0;31m---------------------------------------------------------------------------\u001b[0m",
            "\u001b[0;31mValueError\u001b[0m                                Traceback (most recent call last)",
            "\u001b[0;32m<ipython-input-54-8fc9f7602550>\u001b[0m in \u001b[0;36m<cell line: 33>\u001b[0;34m()\u001b[0m\n\u001b[1;32m     31\u001b[0m       \u001b[0;32mreturn\u001b[0m \u001b[0mgenre_choice\u001b[0m\u001b[0;34m\u001b[0m\u001b[0;34m\u001b[0m\u001b[0m\n\u001b[1;32m     32\u001b[0m \u001b[0;34m\u001b[0m\u001b[0m\n\u001b[0;32m---> 33\u001b[0;31m \u001b[0mget_user_genre_choice\u001b[0m\u001b[0;34m(\u001b[0m\u001b[0;34m)\u001b[0m\u001b[0;34m\u001b[0m\u001b[0;34m\u001b[0m\u001b[0m\n\u001b[0m",
            "\u001b[0;32m<ipython-input-54-8fc9f7602550>\u001b[0m in \u001b[0;36mget_user_genre_choice\u001b[0;34m()\u001b[0m\n\u001b[1;32m     27\u001b[0m     \u001b[0mgenre_choice\u001b[0m \u001b[0;34m=\u001b[0m \u001b[0minput\u001b[0m\u001b[0;34m(\u001b[0m\u001b[0;34m\"Type a genre then hit enter...\\n\"\u001b[0m\u001b[0;34m)\u001b[0m\u001b[0;34m\u001b[0m\u001b[0;34m\u001b[0m\u001b[0m\n\u001b[1;32m     28\u001b[0m     \u001b[0;32mif\u001b[0m \u001b[0mgenre_choice\u001b[0m \u001b[0;32mnot\u001b[0m \u001b[0;32min\u001b[0m \u001b[0mtotal_genres\u001b[0m\u001b[0;34m:\u001b[0m\u001b[0;34m\u001b[0m\u001b[0;34m\u001b[0m\u001b[0m\n\u001b[0;32m---> 29\u001b[0;31m       \u001b[0;32mraise\u001b[0m \u001b[0mValueError\u001b[0m\u001b[0;34m(\u001b[0m\u001b[0;34m\"This is not a valid genre\"\u001b[0m\u001b[0;34m)\u001b[0m\u001b[0;34m\u001b[0m\u001b[0;34m\u001b[0m\u001b[0m\n\u001b[0m\u001b[1;32m     30\u001b[0m     \u001b[0;32melse\u001b[0m\u001b[0;34m:\u001b[0m\u001b[0;34m\u001b[0m\u001b[0;34m\u001b[0m\u001b[0m\n\u001b[1;32m     31\u001b[0m       \u001b[0;32mreturn\u001b[0m \u001b[0mgenre_choice\u001b[0m\u001b[0;34m\u001b[0m\u001b[0;34m\u001b[0m\u001b[0m\n",
            "\u001b[0;31mValueError\u001b[0m: This is not a valid genre"
          ]
        }
      ],
      "source": [
        "## Write your code here\n",
        "## Write your code here\n",
        "def get_unique_genres():\n",
        "    genres = []\n",
        "    for movie in movies:\n",
        "        genres.append(movie[\"genre\"])\n",
        "    genres = set(genres)\n",
        "    return genres\n",
        "\n",
        "def get_user_genre_choice():\n",
        "    total_genres = get_unique_genres()\n",
        "    print(\"Select a genre from the following set:\")\n",
        "    print(total_genres)\n",
        "    genre_choice = input(\"Type a genre then hit enter...\\n\")\n",
        "    if genre_choice not in total_genres:\n",
        "      raise ValueError(\"This is not a valid genre\")\n",
        "    else:\n",
        "      return genre_choice\n",
        "\n",
        "get_user_genre_choice()"
      ]
    },
    {
      "cell_type": "code",
      "execution_count": 55,
      "metadata": {
        "id": "m9N5WZ3fXXCq",
        "outputId": "bb149c9d-bd5f-4dfb-b597-cb099188f60a",
        "colab": {
          "base_uri": "https://localhost:8080/"
        }
      },
      "outputs": [
        {
          "output_type": "stream",
          "name": "stdout",
          "text": [
            "Great! The \"get_user_genre_choice\" function raises a ValueError exception when you use a genre that is not in the dataset\n",
            "You can continue to the next task\n"
          ]
        }
      ],
      "source": [
        "#@title Run this cell to check your solution { display-mode: \"form\", run: \"auto\" }\n",
        "\n",
        "assert 'get_user_genre_choice' in globals(), \"You need to define a function called get_user_genre_choice\"\n",
        "task_2 = test_milestone_5.check_second_get_user_genre_choice(get_user_genre_choice, task_1)"
      ]
    },
    {
      "cell_type": "markdown",
      "metadata": {
        "id": "Ql8Bw_9LXXCq"
      },
      "source": [
        "# Task 3\n",
        "\n",
        "### Handle the Error"
      ]
    },
    {
      "cell_type": "code",
      "execution_count": 58,
      "metadata": {
        "id": "RPrHgyINXXCq"
      },
      "outputs": [],
      "source": [
        "## Write your code here\n",
        "def get_user_genre_choice():\n",
        "  total_genres = get_unique_genres()\n",
        "  while True:\n",
        "    print(\"Select a genre from the following set:\")\n",
        "    print(total_genres)\n",
        "    genre_choice = input(\"Type a genre then hit enter...\\n\")\n",
        "    try:\n",
        "      if genre_choice not in total_genres:\n",
        "        raise ValueError(\"This is not a valid genre\")\n",
        "    except ValueError as e:\n",
        "      print(e)\n",
        "    else:\n",
        "      return genre_choice\n",
        "      break\n"
      ]
    },
    {
      "cell_type": "code",
      "execution_count": 59,
      "metadata": {
        "id": "g4_dyoPWXXCr",
        "outputId": "2763739d-3241-4dc5-fa70-2c3595639ced",
        "colab": {
          "base_uri": "https://localhost:8080/"
        }
      },
      "outputs": [
        {
          "output_type": "stream",
          "name": "stdout",
          "text": [
            "Great! The \"get_user_genre_choice\" function works correctly\n",
            "Congratulations! You completed the project!\n"
          ]
        }
      ],
      "source": [
        "#@title Run this cell to check your solution { display-mode: \"form\", run: \"auto\" }\n",
        "\n",
        "assert 'get_user_genre_choice' in globals(), \"You need to define a function called get_user_genre_choice\"\n",
        "task_3 = test_milestone_5.check_third_get_user_genre_choice(get_user_genre_choice, task_2)"
      ]
    }
  ],
  "metadata": {
    "colab": {
      "provenance": []
    },
    "kernelspec": {
      "display_name": "Python 3.9.5 ('base')",
      "language": "python",
      "name": "python3"
    },
    "language_info": {
      "codemirror_mode": {
        "name": "ipython",
        "version": 3
      },
      "file_extension": ".py",
      "mimetype": "text/x-python",
      "name": "python",
      "nbconvert_exporter": "python",
      "pygments_lexer": "ipython3",
      "version": "3.9.5 (default, Jun  4 2021, 12:28:51) \n[GCC 7.5.0]"
    },
    "orig_nbformat": 4,
    "vscode": {
      "interpreter": {
        "hash": "ce99af5845ff7f417c6fe57e3883abe41597db90e3f493c4f9da5159bbc46102"
      }
    }
  },
  "nbformat": 4,
  "nbformat_minor": 0
}