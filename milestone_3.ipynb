{
  "cells": [
    {
      "cell_type": "markdown",
      "metadata": {
        "id": "i_xLFYD8a_h3"
      },
      "source": [
        "# Movie Recommendation - Milestone 3\n"
      ]
    },
    {
      "cell_type": "markdown",
      "metadata": {
        "id": "aAxllaaMuQu4"
      },
      "source": [
        "<details>\n",
        "  <summary>Click in any of these links to compare your solution with ours up to this point</summary>\n",
        "  <p>\n",
        "    <a href=\"https://colab.research.google.com/github/AI-Core/movie-recommendation-solutions/blob/main/solution_m1.ipynb\" target=\"_parent\">Solution for milestone 1</a>\n",
        "  </p>\n",
        "    <p>\n",
        "        <a href=\"https://colab.research.google.com/github/AI-Core/movie-recommendation-solutions/blob/main/solution_m2.ipynb\" target=\"_parent\">Solution for milestone 2</a>\n",
        "    </p>\n",
        "</details>"
      ]
    },
    {
      "cell_type": "code",
      "execution_count": 1,
      "metadata": {
        "colab": {
          "base_uri": "https://localhost:8080/"
        },
        "id": "RLn-_E7Ba3Q4",
        "outputId": "52645460-9382-4c4e-be10-b33b2544be48"
      },
      "outputs": [
        {
          "output_type": "stream",
          "name": "stdout",
          "text": [
            "Looking in indexes: https://pypi.org/simple, https://us-python.pkg.dev/colab-wheels/public/simple/\n",
            "Collecting movie-rec-marking-aicore\n",
            "  Downloading movie-rec-marking-aicore-0.1.2.tar.gz (5.1 kB)\n",
            "  Preparing metadata (setup.py) ... \u001b[?25l\u001b[?25hdone\n",
            "Requirement already satisfied: urllib3 in /usr/local/lib/python3.9/dist-packages (from movie-rec-marking-aicore) (1.26.15)\n",
            "Collecting timeout-decorator\n",
            "  Downloading timeout-decorator-0.5.0.tar.gz (4.8 kB)\n",
            "  Preparing metadata (setup.py) ... \u001b[?25l\u001b[?25hdone\n",
            "Building wheels for collected packages: movie-rec-marking-aicore, timeout-decorator\n",
            "  Building wheel for movie-rec-marking-aicore (setup.py) ... \u001b[?25l\u001b[?25hdone\n",
            "  Created wheel for movie-rec-marking-aicore: filename=movie_rec_marking_aicore-0.1.2-py3-none-any.whl size=8120 sha256=a56996c277d12cf825348f204b01b4e1f7cf8cf552d86b2792fd23e43eb0c2c0\n",
            "  Stored in directory: /root/.cache/pip/wheels/40/57/94/68f1d2aac77e83e7de39614909fa458bad4ae7ff293f677a6e\n",
            "  Building wheel for timeout-decorator (setup.py) ... \u001b[?25l\u001b[?25hdone\n",
            "  Created wheel for timeout-decorator: filename=timeout_decorator-0.5.0-py3-none-any.whl size=5026 sha256=6ca70dab66ef573e2616049578908b734500a19f86436a232b5ff7884d5e46b9\n",
            "  Stored in directory: /root/.cache/pip/wheels/5d/45/1d/a7d2bf8dfbdecd78983a3d422f2fe860316cfbae3f3b001ea5\n",
            "Successfully built movie-rec-marking-aicore timeout-decorator\n",
            "Installing collected packages: timeout-decorator, movie-rec-marking-aicore\n",
            "Successfully installed movie-rec-marking-aicore-0.1.2 timeout-decorator-0.5.0\n",
            "--2023-04-06 08:40:56--  https://aicore-files.s3.amazonaws.com/Movie-Recommendation/movies.json\n",
            "Resolving aicore-files.s3.amazonaws.com (aicore-files.s3.amazonaws.com)... 3.5.29.220, 3.5.2.216, 52.217.95.9, ...\n",
            "Connecting to aicore-files.s3.amazonaws.com (aicore-files.s3.amazonaws.com)|3.5.29.220|:443... connected.\n",
            "HTTP request sent, awaiting response... 200 OK\n",
            "Length: 158540 (155K) [application/json]\n",
            "Saving to: ‘movies.json’\n",
            "\n",
            "movies.json         100%[===================>] 154.82K  --.-KB/s    in 0.02s   \n",
            "\n",
            "2023-04-06 08:40:56 (9.79 MB/s) - ‘movies.json’ saved [158540/158540]\n",
            "\n"
          ]
        }
      ],
      "source": [
        "#@title # Run this cell to download the \"movies.json\" file. After running this, the file will be available in your workspace { display-mode: \"form\" }\n",
        "#@markdown Don’t worry about what’s in this collapsed cell, you’re not expected to understand the code inside\n",
        "!pip install movie-rec-marking-aicore --upgrade\n",
        "!wget https://aicore-files.s3.amazonaws.com/Movie-Recommendation/movies.json\n",
        "\n",
        "from movie_rec_marking import test_milestone_3"
      ]
    },
    {
      "cell_type": "markdown",
      "metadata": {
        "id": "MYQw48Lqa3Q4"
      },
      "source": [
        "# Task 1 \n",
        "### Load in the Full Movies Dataset from a File\n",
        "\n",
        "So far, the movies variable was initialised for you, but in this task, the list of movies is larger and are stored in a JSON (JavaScript Object Notation) file. The file is already available in this workspace if you ran the code cell above."
      ]
    },
    {
      "cell_type": "code",
      "execution_count": 9,
      "metadata": {
        "id": "1UpT9BAym0iW"
      },
      "outputs": [],
      "source": [
        "## Write your code here\n",
        "\n",
        "def load_movies_data():\n",
        "  import json\n",
        "  with open('movies.json','r') as f:\n",
        "    movies = json.load(f)\n",
        "  return movies\n",
        "movies = load_movies_data()\n"
      ]
    },
    {
      "cell_type": "code",
      "execution_count": 10,
      "metadata": {
        "id": "hW70u86IuQu7",
        "outputId": "7dd6f837-7fbd-40c6-9d70-246c6835e30c",
        "colab": {
          "base_uri": "https://localhost:8080/"
        }
      },
      "outputs": [
        {
          "output_type": "stream",
          "name": "stdout",
          "text": [
            "Great! The \"load_movies_data\" function returns the correct number of movies\n",
            "You can continue to the next task\n"
          ]
        }
      ],
      "source": [
        "#@title Run this cell to check your solution { display-mode: \"form\", run: \"auto\" }\n",
        "\n",
        "assert 'load_movies_data' in globals(), \"Please define the function load_movies_data\"\n",
        "task_1 = test_milestone_3.check_load_movies_data(load_movies_data)"
      ]
    },
    {
      "cell_type": "markdown",
      "metadata": {
        "id": "j-xnubG3uQu7"
      },
      "source": [
        "# Task 2 \n",
        "\n",
        "### What are the Unique Genres?"
      ]
    },
    {
      "cell_type": "code",
      "execution_count": 13,
      "metadata": {
        "id": "bTPSbXAKuQu8",
        "outputId": "ecb245ff-ef06-4c42-e75a-54faa13aecb1",
        "colab": {
          "base_uri": "https://localhost:8080/"
        }
      },
      "outputs": [
        {
          "output_type": "execute_result",
          "data": {
            "text/plain": [
              "{'Action',\n",
              " 'Adventure',\n",
              " 'Animation',\n",
              " 'Biography',\n",
              " 'Comedy',\n",
              " 'Crime',\n",
              " 'Drama',\n",
              " 'Film-Noir',\n",
              " 'Horror',\n",
              " 'Mystery',\n",
              " 'Western'}"
            ]
          },
          "metadata": {},
          "execution_count": 13
        }
      ],
      "source": [
        "## Write your code here\n",
        "def get_unique_genres(movies=movies):\n",
        "  return set([i['genre'] for i in movies])\n",
        "get_unique_genres()\n"
      ]
    },
    {
      "cell_type": "code",
      "execution_count": 12,
      "metadata": {
        "id": "ah5g7095uQu8",
        "outputId": "b9b30451-41ba-4899-9b2c-53b9b7208632",
        "colab": {
          "base_uri": "https://localhost:8080/"
        }
      },
      "outputs": [
        {
          "output_type": "stream",
          "name": "stdout",
          "text": [
            "Great! The \"get_unique_genres\" function returns the correct genres\n",
            "You can continue to the next task\n"
          ]
        }
      ],
      "source": [
        "#@title Run this cell to check your solution { display-mode: \"form\", run: \"auto\" }\n",
        "\n",
        "assert 'get_unique_genres' in globals(), \"Please define the function get_unique_genres\"\n",
        "task_2 = test_milestone_3.check_get_unique_genres(get_unique_genres, task_1)"
      ]
    },
    {
      "cell_type": "markdown",
      "metadata": {
        "id": "oO9DfuSyuQu8"
      },
      "source": [
        "# Task 3\n",
        "\n",
        "### Filter by Genre"
      ]
    },
    {
      "cell_type": "code",
      "execution_count": 16,
      "metadata": {
        "id": "42SQilVDuQu9"
      },
      "outputs": [],
      "source": [
        "## Write your code here\n",
        "def get_movies_in_genre(genre):\n",
        "  movies_in_genre = []\n",
        "  for i in movies:\n",
        "    if genre == i['genre']:\n",
        "      movies_in_genre.append(i)\n",
        "  return movies_in_genre\n",
        "\n"
      ]
    },
    {
      "cell_type": "code",
      "execution_count": 17,
      "metadata": {
        "id": "mAUowBnzuQu9",
        "outputId": "6e81a21e-6e12-46ba-aeec-bdadefd7487f",
        "colab": {
          "base_uri": "https://localhost:8080/"
        }
      },
      "outputs": [
        {
          "output_type": "stream",
          "name": "stdout",
          "text": [
            "Great! The \"get_movies_in_genre\" function returns the correct number of movies\n",
            "Amazing! You have complete the third milestone of the project! Two more to go!\n"
          ]
        }
      ],
      "source": [
        "#@title Run this cell to check your solution { display-mode: \"form\", run: \"auto\" }\n",
        "\n",
        "assert 'get_movies_in_genre' in globals(), \"Please define the function get_movies_in_genre\"\n",
        "task_3 = test_milestone_3.check_get_movies_in_genre(get_movies_in_genre, task_2)"
      ]
    }
  ],
  "metadata": {
    "colab": {
      "provenance": []
    },
    "kernelspec": {
      "display_name": "Python 3.9.5 ('base')",
      "language": "python",
      "name": "python3"
    },
    "language_info": {
      "codemirror_mode": {
        "name": "ipython",
        "version": 3
      },
      "file_extension": ".py",
      "mimetype": "text/x-python",
      "name": "python",
      "nbconvert_exporter": "python",
      "pygments_lexer": "ipython3",
      "version": "3.9.5 (default, Jun  4 2021, 12:28:51) \n[GCC 7.5.0]"
    },
    "orig_nbformat": 4,
    "vscode": {
      "interpreter": {
        "hash": "ce99af5845ff7f417c6fe57e3883abe41597db90e3f493c4f9da5159bbc46102"
      }
    }
  },
  "nbformat": 4,
  "nbformat_minor": 0
}