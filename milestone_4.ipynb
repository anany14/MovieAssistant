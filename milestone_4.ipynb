{
  "cells": [
    {
      "cell_type": "markdown",
      "metadata": {
        "id": "i_xLFYD8a_h3"
      },
      "source": [
        "# Movie Recommendation - Milestone 4\n"
      ]
    },
    {
      "cell_type": "markdown",
      "metadata": {
        "id": "cqZfCseK6VQw"
      },
      "source": [
        "<details>\n",
        "  <summary>Click in any of these links to compare your solution with ours up to this point</summary>\n",
        "  <p>\n",
        "    <a href=\"https://colab.research.google.com/github/AI-Core/movie-recommendation-solutions/blob/main/solution_m1.ipynb\" target=\"_parent\">Solution for milestone 1</a>\n",
        "  </p>\n",
        "  <p>\n",
        "    <a href=\"https://colab.research.google.com/github/AI-Core/movie-recommendation-solutions/blob/main/solution_m2.ipynb\" target=\"_parent\">Solution for milestone 2</a>\n",
        "  </p>\n",
        "    <p>\n",
        "        <a href=\"https://colab.research.google.com/github/AI-Core/movie-recommendation-solutions/blob/main/solution_m3.ipynb\" target=\"_parent\">Solution for milestone 3</a>\n",
        "    </p>\n",
        "</details>"
      ]
    },
    {
      "cell_type": "code",
      "execution_count": 17,
      "metadata": {
        "id": "sXQ7mYa86VQw",
        "outputId": "557bd30f-03d9-4275-db3d-71c2bcebae78",
        "colab": {
          "base_uri": "https://localhost:8080/"
        }
      },
      "outputs": [
        {
          "output_type": "stream",
          "name": "stdout",
          "text": [
            "Looking in indexes: https://pypi.org/simple, https://us-python.pkg.dev/colab-wheels/public/simple/\n",
            "Requirement already satisfied: movie-rec-marking-aicore in /usr/local/lib/python3.9/dist-packages (0.1.2)\n",
            "Requirement already satisfied: urllib3 in /usr/local/lib/python3.9/dist-packages (from movie-rec-marking-aicore) (1.26.15)\n",
            "Requirement already satisfied: timeout-decorator in /usr/local/lib/python3.9/dist-packages (from movie-rec-marking-aicore) (0.5.0)\n",
            "--2023-04-06 10:03:22--  https://aicore-files.s3.amazonaws.com/Movie-Recommendation/movies.json\n",
            "Resolving aicore-files.s3.amazonaws.com (aicore-files.s3.amazonaws.com)... 52.216.131.83, 52.217.128.57, 52.216.56.89, ...\n",
            "Connecting to aicore-files.s3.amazonaws.com (aicore-files.s3.amazonaws.com)|52.216.131.83|:443... connected.\n",
            "HTTP request sent, awaiting response... 200 OK\n",
            "Length: 158540 (155K) [application/json]\n",
            "Saving to: ‘movies.json.1’\n",
            "\n",
            "movies.json.1       100%[===================>] 154.82K  --.-KB/s    in 0.007s  \n",
            "\n",
            "2023-04-06 10:03:22 (20.9 MB/s) - ‘movies.json.1’ saved [158540/158540]\n",
            "\n"
          ]
        }
      ],
      "source": [
        "#@title # Run the following cell to add the `movies` variable and the `get_unique_genres` and `get_movies_in_genre` functions will be available for you to use. { display-mode: \"form\" }\n",
        "#@markdown Don’t worry about what’s in this collapsed cell, you’re not expected to understand the code inside\n",
        "\n",
        "!pip install movie-rec-marking-aicore --upgrade\n",
        "!wget https://aicore-files.s3.amazonaws.com/Movie-Recommendation/movies.json\n",
        "from movie_rec_marking import test_milestone_4\n",
        "import json\n",
        "with open('movies.json', 'r') as f:\n",
        "    movies = json.load(f)\n",
        "\n",
        "def get_unique_genres():\n",
        "    genres = []\n",
        "    for movie in movies:\n",
        "        genres.append(movie[\"genre\"])\n",
        "    genres = set(genres)\n",
        "    return genres\n",
        "\n",
        "def get_movies_in_genre(genre):\n",
        "    movies_in_genre = []\n",
        "    for movie in movies:\n",
        "        if movie[\"genre\"] == genre:\n",
        "            movies_in_genre.append(movie)\n",
        "    return movies_in_genre"
      ]
    },
    {
      "cell_type": "markdown",
      "metadata": {
        "id": "MYQw48Lqa3Q4"
      },
      "source": [
        "# Task 1 \n",
        "### Ask the user what genre they are interested in"
      ]
    },
    {
      "cell_type": "code",
      "execution_count": 18,
      "metadata": {
        "id": "1UpT9BAym0iW",
        "outputId": "e0bf2714-8110-4401-f881-5008a8122443",
        "colab": {
          "base_uri": "https://localhost:8080/"
        }
      },
      "outputs": [
        {
          "name": "stdout",
          "output_type": "stream",
          "text": [
            "{'Crime', 'Biography', 'Adventure', 'Drama', 'Film-Noir', 'Western', 'Animation', 'Mystery', 'Action', 'Horror', 'Comedy'}\n",
            "choose a genre from the aboveCrime\n"
          ]
        }
      ],
      "source": [
        "## Write your code here\n",
        "def get_user_genre_choice():\n",
        "  print(get_unique_genres())\n",
        "  genre_choice = input('choose a genre from the above')\n",
        "  return genre_choice\n",
        "genre_choice = get_user_genre_choice()"
      ]
    },
    {
      "cell_type": "code",
      "execution_count": 19,
      "metadata": {
        "id": "rK16dck06VQy",
        "outputId": "74a53dbd-2cdf-4a3f-d6bf-b5901858930b",
        "colab": {
          "base_uri": "https://localhost:8080/"
        }
      },
      "outputs": [
        {
          "output_type": "stream",
          "name": "stdout",
          "text": [
            "Great! The \"get_user_genre_choice\" function prints the correct genre\n",
            "You can continue to the next task\n"
          ]
        }
      ],
      "source": [
        "#@title Run this cell to check your solution { display-mode: \"form\", run: \"auto\" }\n",
        "\n",
        "assert 'get_user_genre_choice' in globals(), \"You need to define a function called get_user_genre_choice\"\n",
        "task_1 = test_milestone_4.check_get_user_genre_choice(get_user_genre_choice)"
      ]
    },
    {
      "cell_type": "markdown",
      "metadata": {
        "id": "yV_Wckts6VQz"
      },
      "source": [
        "# Task 2 \n",
        "\n",
        "### Show the Movies in the Selected Genre"
      ]
    },
    {
      "cell_type": "code",
      "execution_count": 30,
      "metadata": {
        "id": "jIDOfPvV6VQz",
        "outputId": "e22b6640-3333-4b44-92b7-b0691598c525",
        "colab": {
          "base_uri": "https://localhost:8080/"
        }
      },
      "outputs": [
        {
          "output_type": "stream",
          "name": "stdout",
          "text": [
            "{'Crime', 'Biography', 'Adventure', 'Drama', 'Film-Noir', 'Western', 'Animation', 'Mystery', 'Action', 'Horror', 'Comedy'}\n",
            "choose a genre from the aboveCrime\n",
            "1: The Godfather\n",
            "2: The Godfather: Part II\n",
            "3: 12 Angry Men\n",
            "4: Pulp Fiction\n",
            "5: Seven\n",
            "6: The Silence of the Lambs\n",
            "7: City of God\n",
            "8: The Green Mile\n",
            "9: American History X\n",
            "10: The Departed\n",
            "11: The Usual Suspects\n",
            "12: Witness for the Prosecution\n",
            "13: Joker\n",
            "14: Once Upon a Time in America\n",
            "15: High and Low\n",
            "16: Reservoir Dogs\n",
            "17: M\n",
            "18: A Clockwork Orange\n",
            "19: Double Indemnity\n",
            "20: Scarface\n",
            "21: To Kill a Mockingbird\n",
            "22: Taxi Driver\n",
            "23: L.A. Confidential\n",
            "24: Casino\n",
            "25: Rashomon\n",
            "26: No Country for Old Men\n",
            "27: Dial M for Murder\n",
            "28: Fargo\n",
            "29: Prisoners\n",
            "30: On the Waterfront\n",
            "31: Memories of Murder\n",
            "32: Jai Bhim\n",
            "33: La Haine\n",
            "34: Cool Hand Luke\n",
            "35: The 400 Blows\n"
          ]
        }
      ],
      "source": [
        "## Write your code here\n",
        "genre_choice = get_user_genre_choice()\n",
        "movies_in_genre = get_movies_in_genre(genre_choice)\n",
        "for idx,item in enumerate(movies_in_genre):\n",
        "  print(f\"{int(idx)+1}: {item['title']}\")\n",
        "\n"
      ]
    },
    {
      "cell_type": "code",
      "execution_count": 31,
      "metadata": {
        "id": "m-B3JqFS6VQz",
        "outputId": "22ca780e-10fd-400b-d03a-ff00c7a02b1f",
        "colab": {
          "base_uri": "https://localhost:8080/"
        }
      },
      "outputs": [
        {
          "output_type": "stream",
          "name": "stdout",
          "text": [
            "Great! The \"get_movies_in_genre\" function returns the correct movies\n",
            "You can continue to the next task\n"
          ]
        }
      ],
      "source": [
        "#@title Enter your solution here { display-mode: \"form\", run: \"auto\" }\n",
        "#@markdown For Action, which is the movie corresponding to index 12?\n",
        "first_movie = \"Gladiator\" #@param [\"The Dark Knight\", \"Leon\", \"Harakiri\", \"Gladiator\", \"Pirates of the Caribbean: The Curse of the Black Pearl\"] {allow-input: true}\n",
        "#@markdown For Drama, which is the movie corresponding to index 7?\n",
        "second_movie = \"Parasite\" #@param [\"The Help\", \"The Shawshank Redemption\", \"The Prestige\", \"Parasite\", \"Saving Private Ryan\"] {allow-input: true}\n",
        "\n",
        "#@markdown For Crime, which is the movie corresponding to index 26?\n",
        "third_movie = \"No Country for Old Men\" #@param [\"Rashomon\", \"Reservoir Dogs\", \"The Godfather\", \"No Country for Old Men\", \"Dial M for Murder\"] {allow-input: true}\n",
        "task_2 = test_milestone_4.check_get_movies_in_genre(first_movie, second_movie, third_movie, task_1)"
      ]
    },
    {
      "cell_type": "markdown",
      "metadata": {
        "id": "-14r1x_16VQ0"
      },
      "source": [
        "# Task 3\n",
        "\n",
        "### Ask the User to Select one of the Movies Shown, then Finally, Display the Details of the Movie"
      ]
    },
    {
      "cell_type": "code",
      "execution_count": 36,
      "metadata": {
        "id": "8qYcozfJ6VQ0"
      },
      "outputs": [],
      "source": [
        "## Write your code here\n",
        "def get_movie_by_index():\n",
        "  genre_choice = get_user_genre_choice()\n",
        "  movies_in_genre = get_movies_in_genre(genre_choice)\n",
        "  for idx,item in enumerate(movies_in_genre):\n",
        "    print(f\"{int(idx)+1}: {item['title']}\")\n",
        "  selected_movie_index = int(input(\"enter index of the selected movie\"))\n",
        "  print(movies_in_genre[selected_movie_index-1])\n"
      ]
    },
    {
      "cell_type": "code",
      "execution_count": 33,
      "metadata": {
        "id": "1njckpSl6VQ0",
        "outputId": "e0127184-439a-47d3-f561-b54227a87265",
        "colab": {
          "base_uri": "https://localhost:8080/"
        }
      },
      "outputs": [
        {
          "output_type": "stream",
          "name": "stdout",
          "text": [
            "Great! The \"get_movie_by_index\" function is defined correctly\n",
            "You have completed the fourth milestone of the project! Congratulations!\n"
          ]
        }
      ],
      "source": [
        "#@title Run this cell to check your solution { display-mode: \"form\", run: \"auto\" }\n",
        "\n",
        "assert 'get_movie_by_index' in globals(), \"You need to define a function called check_get_movie_by_index\"\n",
        "task_3 = test_milestone_4.check_get_movie_by_index(get_movie_by_index, task_2)"
      ]
    }
  ],
  "metadata": {
    "colab": {
      "provenance": []
    },
    "kernelspec": {
      "display_name": "Python 3.9.5 ('base')",
      "language": "python",
      "name": "python3"
    },
    "language_info": {
      "codemirror_mode": {
        "name": "ipython",
        "version": 3
      },
      "file_extension": ".py",
      "mimetype": "text/x-python",
      "name": "python",
      "nbconvert_exporter": "python",
      "pygments_lexer": "ipython3",
      "version": "3.9.5 (default, Jun  4 2021, 12:28:51) \n[GCC 7.5.0]"
    },
    "orig_nbformat": 4,
    "vscode": {
      "interpreter": {
        "hash": "ce99af5845ff7f417c6fe57e3883abe41597db90e3f493c4f9da5159bbc46102"
      }
    }
  },
  "nbformat": 4,
  "nbformat_minor": 0
}