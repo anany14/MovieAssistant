{
  "cells": [
    {
      "cell_type": "markdown",
      "metadata": {
        "id": "i_xLFYD8a_h3"
      },
      "source": [
        "# Movie Recommendation - Milestone 1\n",
        "\n",
        "### Instructions:\n",
        "\n",
        "> To complete this project, you need to follow the instructions you see on the AiCore portal. \n",
        ">\n",
        ">  This notebook allows you to write your code and run it, and once you have your solution ready, you can submit it using the form at each step.\n",
        ">\n",
        ">  For example, for the first task, you need to check how many movies are in the list of movies. You can do this by writing your code in the cell that says `Task 1` and then running the cell. You can run the cell by clicking the play button on the left of the cell, or by pressing `Shift + Enter`.\n",
        ">\n",
        ">  Once you have a solution, the next cell will contain a form that you can use to submit your solution. You can submit your solution by clicking on the play button on the left of the cell, and then entering your solution in the form that appears. You can submit your solution as many times as you want, and the last submission will be considered as your final solution."
      ]
    },
    {
      "cell_type": "code",
      "execution_count": 1,
      "metadata": {
        "colab": {
          "base_uri": "https://localhost:8080/"
        },
        "id": "RLn-_E7Ba3Q4",
        "outputId": "f5bb1c7c-5f86-4f73-a243-d4c10cd3c233"
      },
      "outputs": [
        {
          "output_type": "stream",
          "name": "stdout",
          "text": [
            "Looking in indexes: https://pypi.org/simple, https://us-python.pkg.dev/colab-wheels/public/simple/\n",
            "Collecting movie-rec-marking-aicore\n",
            "  Downloading movie-rec-marking-aicore-0.1.2.tar.gz (5.1 kB)\n",
            "  Preparing metadata (setup.py) ... \u001b[?25l\u001b[?25hdone\n",
            "Requirement already satisfied: urllib3 in /usr/local/lib/python3.9/dist-packages (from movie-rec-marking-aicore) (1.26.15)\n",
            "Collecting timeout-decorator\n",
            "  Downloading timeout-decorator-0.5.0.tar.gz (4.8 kB)\n",
            "  Preparing metadata (setup.py) ... \u001b[?25l\u001b[?25hdone\n",
            "Building wheels for collected packages: movie-rec-marking-aicore, timeout-decorator\n",
            "  Building wheel for movie-rec-marking-aicore (setup.py) ... \u001b[?25l\u001b[?25hdone\n",
            "  Created wheel for movie-rec-marking-aicore: filename=movie_rec_marking_aicore-0.1.2-py3-none-any.whl size=8120 sha256=90d210a36e376313dfa621c03f4520a17f2666086dd230e8f965eee101f69f6d\n",
            "  Stored in directory: /root/.cache/pip/wheels/40/57/94/68f1d2aac77e83e7de39614909fa458bad4ae7ff293f677a6e\n",
            "  Building wheel for timeout-decorator (setup.py) ... \u001b[?25l\u001b[?25hdone\n",
            "  Created wheel for timeout-decorator: filename=timeout_decorator-0.5.0-py3-none-any.whl size=5026 sha256=67b7197ab2b06310f0c9112d8abf1260caa0849d1d1d556cae122ce5f15c2a68\n",
            "  Stored in directory: /root/.cache/pip/wheels/5d/45/1d/a7d2bf8dfbdecd78983a3d422f2fe860316cfbae3f3b001ea5\n",
            "Successfully built movie-rec-marking-aicore timeout-decorator\n",
            "Installing collected packages: timeout-decorator, movie-rec-marking-aicore\n",
            "Successfully installed movie-rec-marking-aicore-0.1.2 timeout-decorator-0.5.0\n",
            "--2023-04-06 07:51:03--  https://aicore-files.s3.amazonaws.com/Movie-Recommendation/movies-head.json\n",
            "Resolving aicore-files.s3.amazonaws.com (aicore-files.s3.amazonaws.com)... 52.216.38.1, 52.217.170.97, 52.217.89.228, ...\n",
            "Connecting to aicore-files.s3.amazonaws.com (aicore-files.s3.amazonaws.com)|52.216.38.1|:443... connected.\n",
            "HTTP request sent, awaiting response... 200 OK\n",
            "Length: 3186 (3.1K) [application/json]\n",
            "Saving to: ‘movies-head.json’\n",
            "\n",
            "movies-head.json    100%[===================>]   3.11K  --.-KB/s    in 0s      \n",
            "\n",
            "2023-04-06 07:51:03 (124 MB/s) - ‘movies-head.json’ saved [3186/3186]\n",
            "\n"
          ]
        }
      ],
      "source": [
        "#@title # Run this cell before you start coding { display-mode: \"form\" }\n",
        "#@markdown Don’t worry about what’s in this collapsed cell, you’re not expected to understand the code inside\n",
        "!pip install movie-rec-marking-aicore --upgrade\n",
        "!wget https://aicore-files.s3.amazonaws.com/Movie-Recommendation/movies-head.json\n",
        "import json\n",
        "from movie_rec_marking import test_milestone_1\n",
        "\n",
        "# Load the movies\n",
        "with open('movies-head.json', 'r') as f:\n",
        "    movies = json.load(f)"
      ]
    },
    {
      "cell_type": "markdown",
      "metadata": {
        "id": "MYQw48Lqa3Q4"
      },
      "source": [
        "# Task 1\n",
        "\n",
        "### Count the data\n",
        "\n",
        "The movies are stored in a variable called `movies`. This variable contains a list. Count the length of that list to get the number of movies"
      ]
    },
    {
      "cell_type": "code",
      "execution_count": 2,
      "metadata": {
        "id": "1UpT9BAym0iW",
        "outputId": "a863895b-b407-4def-9a21-5be314282aed",
        "colab": {
          "base_uri": "https://localhost:8080/"
        }
      },
      "outputs": [
        {
          "output_type": "execute_result",
          "data": {
            "text/plain": [
              "5"
            ]
          },
          "metadata": {},
          "execution_count": 2
        }
      ],
      "source": [
        "## You can use this cell for any computation you want\n",
        "len(movies)"
      ]
    },
    {
      "cell_type": "code",
      "execution_count": 3,
      "metadata": {
        "colab": {
          "base_uri": "https://localhost:8080/"
        },
        "id": "aDmHRI9ca3Q4",
        "outputId": "423c14c7-c88f-488b-8688-c68b56b723a1"
      },
      "outputs": [
        {
          "output_type": "stream",
          "name": "stdout",
          "text": [
            "Great! The length of the movie list is correct - 5\n",
            "You can continue to the next task\n"
          ]
        }
      ],
      "source": [
        "#@title Enter your solution here { display-mode: \"form\", run: \"auto\" }\n",
        "number_movies = 5 #@param {type:\"number\"}\n",
        "task_1 = test_milestone_1.check_length(number_movies)\n",
        "    "
      ]
    },
    {
      "cell_type": "markdown",
      "metadata": {
        "id": "-0RsxgISeCoL"
      },
      "source": [
        "# Task 2\n",
        "\n",
        "### Select the first movie"
      ]
    },
    {
      "cell_type": "code",
      "execution_count": 4,
      "metadata": {
        "id": "pr6oHBMLeCoM",
        "outputId": "14dbb7b6-a543-4f76-bd73-47a3f957994f",
        "colab": {
          "base_uri": "https://localhost:8080/"
        }
      },
      "outputs": [
        {
          "output_type": "execute_result",
          "data": {
            "text/plain": [
              "{'title': 'The Shawshank Redemption',\n",
              " 'description': 'Two imprisoned men bond over a number of years, finding solace and eventual redemption through acts of common decency.',\n",
              " 'genre': 'Drama',\n",
              " 'image_url': 'https://m.media-amazon.com/images/M/MV5BMDFkYTc0MGEtZmNhMC00ZDIzLWFmNTEtODM1ZmRlYWMwMWFmXkEyXkFqcGdeQXVyMTMxODk2OTU@._V1_UY67_CR0,0,45,67_AL_.jpg',\n",
              " 'link': 'https://imdb.com/title/tt0111161/?pf_rd_m=A2FGELUUNOQJNL&pf_rd_p=1a264172-ae11-42e4-8ef7-7fed1973bb8f&pf_rd_r=VZEYAR8ZVPNKZ9V7MV87&pf_rd_s=center-1&pf_rd_t=15506&pf_rd_i=top&ref_=chttp_tt_1'}"
            ]
          },
          "metadata": {},
          "execution_count": 4
        }
      ],
      "source": [
        "## You can use this cell for any computation you want\n",
        "movies[0]"
      ]
    },
    {
      "cell_type": "code",
      "execution_count": 5,
      "metadata": {
        "id": "8Gd1jswgeCoM",
        "outputId": "0db84158-d055-4f5a-8786-34525bd5d44a",
        "colab": {
          "base_uri": "https://localhost:8080/"
        }
      },
      "outputs": [
        {
          "output_type": "stream",
          "name": "stdout",
          "text": [
            "Great! The first movie in the list is correct - The Shawshank Redemption\n",
            "You can continue to the next task\n"
          ]
        }
      ],
      "source": [
        "#@title Enter your solution here { display-mode: \"form\", run: \"auto\" }\n",
        "\n",
        "first_movie = \"The Shawshank Redemption\" #@param [\"The Shawshank Redemption\", \"The Godfather\", \"The Dark Knight\", \"The Iron Giant\"] {allow-input: true}\n",
        "data_type = \"dict\" #@param [\"string\", \"int\", \"float\", \"list\", \"dict\"] {allow-input: true}\n",
        "task_2 = test_milestone_1.check_first_movie(first_movie, data_type, task_1)"
      ]
    },
    {
      "cell_type": "markdown",
      "metadata": {
        "id": "bjKajl_0eCoN"
      },
      "source": [
        "# Task 3\n",
        "\n",
        "### Explore that Movie"
      ]
    },
    {
      "cell_type": "code",
      "execution_count": 7,
      "metadata": {
        "id": "63vvnU9meCoN",
        "outputId": "65ee9bc3-4a6c-4bd3-b4a0-a730fc73d1e0",
        "colab": {
          "base_uri": "https://localhost:8080/",
          "height": 36
        }
      },
      "outputs": [
        {
          "output_type": "execute_result",
          "data": {
            "text/plain": [
              "'chttp_tt_1'"
            ],
            "application/vnd.google.colaboratory.intrinsic+json": {
              "type": "string"
            }
          },
          "metadata": {},
          "execution_count": 7
        }
      ],
      "source": [
        "## You can use this cell for any computation you want\n",
        "movies[0]['link'][-10:]"
      ]
    },
    {
      "cell_type": "code",
      "execution_count": 8,
      "metadata": {
        "id": "B1Vbj--LeCoN",
        "outputId": "001cf382-983f-49b8-cae5-b993f27d1c88",
        "colab": {
          "base_uri": "https://localhost:8080/"
        }
      },
      "outputs": [
        {
          "output_type": "stream",
          "name": "stdout",
          "text": [
            "Great! The last 10 characters in the url are correct - chtt_tt_1\n",
            "Great! You have completed the first milestone of the project\n"
          ]
        }
      ],
      "source": [
        "#@title What are the last 10 characters of the link? { display-mode: \"form\", run: \"auto\" }\n",
        "\n",
        "first_movie = \"chttp_tt_1\" #@param [\"chttp_tt_1\", \"chttp_tt_2\", \"https://im\", \"ttp_tt_250\"] {allow-input: true}\n",
        "task_3 = test_milestone_1.check_last_characters(first_movie, task_2)"
      ]
    }
  ],
  "metadata": {
    "colab": {
      "provenance": []
    },
    "kernelspec": {
      "display_name": "base",
      "language": "python",
      "name": "python3"
    },
    "language_info": {
      "codemirror_mode": {
        "name": "ipython",
        "version": 3
      },
      "file_extension": ".py",
      "mimetype": "text/x-python",
      "name": "python",
      "nbconvert_exporter": "python",
      "pygments_lexer": "ipython3",
      "version": "3.9.12 (main, Apr  5 2022, 06:56:58) \n[GCC 7.5.0]"
    },
    "orig_nbformat": 4,
    "vscode": {
      "interpreter": {
        "hash": "a2592652612463181e69ac003232387e3e9a99279aa6b168e76f5df16d5110f4"
      }
    }
  },
  "nbformat": 4,
  "nbformat_minor": 0
}